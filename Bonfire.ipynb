{
 "cells": [
  {
   "cell_type": "code",
   "execution_count": 48,
   "id": "9e4c7a69-3dfb-4677-aa73-0271dd33a913",
   "metadata": {},
   "outputs": [],
   "source": [
    "import requests\n",
    "import pandas as pd\n",
    "from bs4 import BeautifulSoup as bs\n",
    "import seaborn as sns\n",
    "import matplotlib.pyplot as plt\n"
   ]
  },
  {
   "cell_type": "code",
   "execution_count": 2,
   "id": "5412de9c-254d-4885-9078-da98f0e3e9dd",
   "metadata": {},
   "outputs": [],
   "source": [
    "url='https://www.bonfireadventures.com/'\n",
    "page=requests.get(url)\n",
    "soup=bs(page.content,'html.parser')"
   ]
  },
  {
   "cell_type": "code",
   "execution_count": 3,
   "id": "2947b2f9-9a94-46d0-a417-be862eb68b73",
   "metadata": {},
   "outputs": [],
   "source": [
    "titles=soup.find_all('div',class_='to-ho-hotel-con-2')\n",
    "prices=soup.find_all('span',class_='ho-hot-pri')\n",
    "places=[]\n",
    "trip_price=[]\n",
    "for title in titles:\n",
    "    place=title.text.strip()\n",
    "    places.append(place)\n",
    "\n",
    "for price in prices:\n",
    "    priceT=price.text.strip()\n",
    "\n",
    "    #print(priceT)\n",
    "    trip_price.append(priceT)\n",
    "    \n",
    "  "
   ]
  },
  {
   "cell_type": "code",
   "execution_count": 4,
   "id": "46537d40-80ce-4d20-bea1-7284df6be56f",
   "metadata": {},
   "outputs": [
    {
     "name": "stdout",
     "output_type": "stream",
     "text": [
      "['Luxury Island Honeymoon', 'Safari For Your Birthday', 'Snorkeling Tours In Kenya', 'Team Building', 'Maasai Mara Safari', 'Dubai Holiday Packages', 'Mombasa Holiday', 'Wildebeest Migration', 'Christmas In Diani', 'Christmas On Safari', 'Canton Fair', 'Egypt Israel Pilgrimage']\n",
      "['Ksh                                                    12,999.00', 'Ksh                                                    69,999.00', 'Ksh                                                    14,500.00', 'Ksh                                                    13,000.00', 'Ksh                                                    68,700.00', 'Ksh                                                    17,000.00', 'Ksh                                                    265,000.00', 'Ksh                                                    287,000.00']\n"
     ]
    }
   ],
   "source": [
    "print(places)\n",
    "print(trip_price)\n",
    "df1=pd.DataFrame({'place':places[4:],'price':trip_price})"
   ]
  },
  {
   "cell_type": "code",
   "execution_count": 5,
   "id": "894194a7-de45-4cd1-baca-fd59a9461ce1",
   "metadata": {},
   "outputs": [
    {
     "data": {
      "text/html": [
       "<div>\n",
       "<style scoped>\n",
       "    .dataframe tbody tr th:only-of-type {\n",
       "        vertical-align: middle;\n",
       "    }\n",
       "\n",
       "    .dataframe tbody tr th {\n",
       "        vertical-align: top;\n",
       "    }\n",
       "\n",
       "    .dataframe thead th {\n",
       "        text-align: right;\n",
       "    }\n",
       "</style>\n",
       "<table border=\"1\" class=\"dataframe\">\n",
       "  <thead>\n",
       "    <tr style=\"text-align: right;\">\n",
       "      <th></th>\n",
       "      <th>place</th>\n",
       "      <th>price</th>\n",
       "    </tr>\n",
       "  </thead>\n",
       "  <tbody>\n",
       "    <tr>\n",
       "      <th>0</th>\n",
       "      <td>Maasai Mara Safari</td>\n",
       "      <td>Ksh                                           ...</td>\n",
       "    </tr>\n",
       "    <tr>\n",
       "      <th>1</th>\n",
       "      <td>Dubai Holiday Packages</td>\n",
       "      <td>Ksh                                           ...</td>\n",
       "    </tr>\n",
       "    <tr>\n",
       "      <th>2</th>\n",
       "      <td>Mombasa Holiday</td>\n",
       "      <td>Ksh                                           ...</td>\n",
       "    </tr>\n",
       "    <tr>\n",
       "      <th>3</th>\n",
       "      <td>Wildebeest Migration</td>\n",
       "      <td>Ksh                                           ...</td>\n",
       "    </tr>\n",
       "    <tr>\n",
       "      <th>4</th>\n",
       "      <td>Christmas In Diani</td>\n",
       "      <td>Ksh                                           ...</td>\n",
       "    </tr>\n",
       "    <tr>\n",
       "      <th>5</th>\n",
       "      <td>Christmas On Safari</td>\n",
       "      <td>Ksh                                           ...</td>\n",
       "    </tr>\n",
       "    <tr>\n",
       "      <th>6</th>\n",
       "      <td>Canton Fair</td>\n",
       "      <td>Ksh                                           ...</td>\n",
       "    </tr>\n",
       "    <tr>\n",
       "      <th>7</th>\n",
       "      <td>Egypt Israel Pilgrimage</td>\n",
       "      <td>Ksh                                           ...</td>\n",
       "    </tr>\n",
       "  </tbody>\n",
       "</table>\n",
       "</div>"
      ],
      "text/plain": [
       "                     place                                              price\n",
       "0       Maasai Mara Safari  Ksh                                           ...\n",
       "1   Dubai Holiday Packages  Ksh                                           ...\n",
       "2          Mombasa Holiday  Ksh                                           ...\n",
       "3     Wildebeest Migration  Ksh                                           ...\n",
       "4       Christmas In Diani  Ksh                                           ...\n",
       "5      Christmas On Safari  Ksh                                           ...\n",
       "6              Canton Fair  Ksh                                           ...\n",
       "7  Egypt Israel Pilgrimage  Ksh                                           ..."
      ]
     },
     "execution_count": 5,
     "metadata": {},
     "output_type": "execute_result"
    }
   ],
   "source": [
    "df1\n"
   ]
  },
  {
   "cell_type": "code",
   "execution_count": 14,
   "id": "71cf9a58-bea6-4b30-951d-36bdc0ba3292",
   "metadata": {},
   "outputs": [],
   "source": [
    "\n",
    "df1['amount'] = df1['price'].str.split().str[1]\n",
    "df1 = df1.rename(columns={'price': 'currency'})\n",
    "\n"
   ]
  },
  {
   "cell_type": "code",
   "execution_count": 17,
   "id": "a4e8a46e-3273-41ef-b456-9e40648fe6ce",
   "metadata": {},
   "outputs": [],
   "source": [
    "df1 = df1.drop(columns=['currency'])"
   ]
  },
  {
   "cell_type": "code",
   "execution_count": 19,
   "id": "ceaf529f-586c-43b3-a449-47d539dbad27",
   "metadata": {},
   "outputs": [],
   "source": [
    "df1['currency']='KSh'"
   ]
  },
  {
   "cell_type": "code",
   "execution_count": 20,
   "id": "57d4f1ec-4650-49b6-b7ac-5ae8f6a85928",
   "metadata": {},
   "outputs": [
    {
     "data": {
      "text/html": [
       "<div>\n",
       "<style scoped>\n",
       "    .dataframe tbody tr th:only-of-type {\n",
       "        vertical-align: middle;\n",
       "    }\n",
       "\n",
       "    .dataframe tbody tr th {\n",
       "        vertical-align: top;\n",
       "    }\n",
       "\n",
       "    .dataframe thead th {\n",
       "        text-align: right;\n",
       "    }\n",
       "</style>\n",
       "<table border=\"1\" class=\"dataframe\">\n",
       "  <thead>\n",
       "    <tr style=\"text-align: right;\">\n",
       "      <th></th>\n",
       "      <th>place</th>\n",
       "      <th>amount</th>\n",
       "      <th>currency</th>\n",
       "    </tr>\n",
       "  </thead>\n",
       "  <tbody>\n",
       "    <tr>\n",
       "      <th>0</th>\n",
       "      <td>Maasai Mara Safari</td>\n",
       "      <td>12,999.00</td>\n",
       "      <td>KSh</td>\n",
       "    </tr>\n",
       "    <tr>\n",
       "      <th>1</th>\n",
       "      <td>Dubai Holiday Packages</td>\n",
       "      <td>69,999.00</td>\n",
       "      <td>KSh</td>\n",
       "    </tr>\n",
       "    <tr>\n",
       "      <th>2</th>\n",
       "      <td>Mombasa Holiday</td>\n",
       "      <td>14,500.00</td>\n",
       "      <td>KSh</td>\n",
       "    </tr>\n",
       "    <tr>\n",
       "      <th>3</th>\n",
       "      <td>Wildebeest Migration</td>\n",
       "      <td>13,000.00</td>\n",
       "      <td>KSh</td>\n",
       "    </tr>\n",
       "    <tr>\n",
       "      <th>4</th>\n",
       "      <td>Christmas In Diani</td>\n",
       "      <td>68,700.00</td>\n",
       "      <td>KSh</td>\n",
       "    </tr>\n",
       "    <tr>\n",
       "      <th>5</th>\n",
       "      <td>Christmas On Safari</td>\n",
       "      <td>17,000.00</td>\n",
       "      <td>KSh</td>\n",
       "    </tr>\n",
       "    <tr>\n",
       "      <th>6</th>\n",
       "      <td>Canton Fair</td>\n",
       "      <td>265,000.00</td>\n",
       "      <td>KSh</td>\n",
       "    </tr>\n",
       "    <tr>\n",
       "      <th>7</th>\n",
       "      <td>Egypt Israel Pilgrimage</td>\n",
       "      <td>287,000.00</td>\n",
       "      <td>KSh</td>\n",
       "    </tr>\n",
       "  </tbody>\n",
       "</table>\n",
       "</div>"
      ],
      "text/plain": [
       "                     place      amount currency\n",
       "0       Maasai Mara Safari   12,999.00      KSh\n",
       "1   Dubai Holiday Packages   69,999.00      KSh\n",
       "2          Mombasa Holiday   14,500.00      KSh\n",
       "3     Wildebeest Migration   13,000.00      KSh\n",
       "4       Christmas In Diani   68,700.00      KSh\n",
       "5      Christmas On Safari   17,000.00      KSh\n",
       "6              Canton Fair  265,000.00      KSh\n",
       "7  Egypt Israel Pilgrimage  287,000.00      KSh"
      ]
     },
     "execution_count": 20,
     "metadata": {},
     "output_type": "execute_result"
    }
   ],
   "source": [
    "df1"
   ]
  },
  {
   "cell_type": "code",
   "execution_count": 21,
   "id": "dc5b089e-3c78-4563-a9a3-abca5a933f7b",
   "metadata": {},
   "outputs": [],
   "source": [
    "df1.to_csv('Bonfire1.csv')"
   ]
  },
  {
   "cell_type": "code",
   "execution_count": 22,
   "id": "38b7020a-8c89-44a7-91d0-b2c3316178b9",
   "metadata": {},
   "outputs": [
    {
     "name": "stdout",
     "output_type": "stream",
     "text": [
      "<class 'pandas.core.frame.DataFrame'>\n",
      "RangeIndex: 8 entries, 0 to 7\n",
      "Data columns (total 3 columns):\n",
      " #   Column    Non-Null Count  Dtype \n",
      "---  ------    --------------  ----- \n",
      " 0   place     8 non-null      object\n",
      " 1   amount    8 non-null      object\n",
      " 2   currency  8 non-null      object\n",
      "dtypes: object(3)\n",
      "memory usage: 324.0+ bytes\n"
     ]
    }
   ],
   "source": [
    "df1.info()"
   ]
  },
  {
   "cell_type": "code",
   "execution_count": 40,
   "id": "0bfb0d52-ef02-4335-8041-a4f98dec4a24",
   "metadata": {},
   "outputs": [],
   "source": [
    "#df1['amount']=df1['amount'].str.replace(',','')\n"
   ]
  },
  {
   "cell_type": "code",
   "execution_count": 41,
   "id": "fe88d702-8aff-4620-adf3-d9db8704ae47",
   "metadata": {},
   "outputs": [
    {
     "data": {
      "text/plain": [
       "0     12999.00\n",
       "1     69999.00\n",
       "2     14500.00\n",
       "3     13000.00\n",
       "4     68700.00\n",
       "5     17000.00\n",
       "6    265000.00\n",
       "7    287000.00\n",
       "Name: amount, dtype: object"
      ]
     },
     "execution_count": 41,
     "metadata": {},
     "output_type": "execute_result"
    }
   ],
   "source": [
    "df1['amount']=df1['amount'].astype(float).round(2)\n",
    "df1['amount'].map('{:.2f}'.format)"
   ]
  },
  {
   "cell_type": "code",
   "execution_count": 42,
   "id": "508e1a1e-eca2-40f4-b327-ab0a70b50236",
   "metadata": {},
   "outputs": [
    {
     "data": {
      "text/html": [
       "<div>\n",
       "<style scoped>\n",
       "    .dataframe tbody tr th:only-of-type {\n",
       "        vertical-align: middle;\n",
       "    }\n",
       "\n",
       "    .dataframe tbody tr th {\n",
       "        vertical-align: top;\n",
       "    }\n",
       "\n",
       "    .dataframe thead th {\n",
       "        text-align: right;\n",
       "    }\n",
       "</style>\n",
       "<table border=\"1\" class=\"dataframe\">\n",
       "  <thead>\n",
       "    <tr style=\"text-align: right;\">\n",
       "      <th></th>\n",
       "      <th>amount</th>\n",
       "    </tr>\n",
       "  </thead>\n",
       "  <tbody>\n",
       "    <tr>\n",
       "      <th>count</th>\n",
       "      <td>8.000000</td>\n",
       "    </tr>\n",
       "    <tr>\n",
       "      <th>mean</th>\n",
       "      <td>93524.750000</td>\n",
       "    </tr>\n",
       "    <tr>\n",
       "      <th>std</th>\n",
       "      <td>115310.601112</td>\n",
       "    </tr>\n",
       "    <tr>\n",
       "      <th>min</th>\n",
       "      <td>12999.000000</td>\n",
       "    </tr>\n",
       "    <tr>\n",
       "      <th>25%</th>\n",
       "      <td>14125.000000</td>\n",
       "    </tr>\n",
       "    <tr>\n",
       "      <th>50%</th>\n",
       "      <td>42850.000000</td>\n",
       "    </tr>\n",
       "    <tr>\n",
       "      <th>75%</th>\n",
       "      <td>118749.250000</td>\n",
       "    </tr>\n",
       "    <tr>\n",
       "      <th>max</th>\n",
       "      <td>287000.000000</td>\n",
       "    </tr>\n",
       "  </tbody>\n",
       "</table>\n",
       "</div>"
      ],
      "text/plain": [
       "              amount\n",
       "count       8.000000\n",
       "mean    93524.750000\n",
       "std    115310.601112\n",
       "min     12999.000000\n",
       "25%     14125.000000\n",
       "50%     42850.000000\n",
       "75%    118749.250000\n",
       "max    287000.000000"
      ]
     },
     "execution_count": 42,
     "metadata": {},
     "output_type": "execute_result"
    }
   ],
   "source": [
    "df1.describe()"
   ]
  },
  {
   "cell_type": "code",
   "execution_count": 59,
   "id": "33a1e192-df39-4c28-b045-f50a28aa3817",
   "metadata": {},
   "outputs": [
    {
     "data": {
      "image/png": "[encoded data removed]",
      "text/plain": [
       "<Figure size 640x480 with 1 Axes>"
      ]
     },
     "metadata": {},
     "output_type": "display_data"
    }
   ],
   "source": [
    "amount=df1['amount']\n",
    "place=df1['place']\n",
    "plt.xticks(rotation=90)\n",
    "plt.plot(place,amount, label='Line Graph', marker='o', linestyle='', color='blue')\n",
    "plt.grid(True)"
   ]
  },
  {
   "cell_type": "code",
   "execution_count": null,
   "id": "45468280-400e-4fe4-a189-472f90962a74",
   "metadata": {},
   "outputs": [],
   "source": []
  }
 ],
 "metadata": {
  "kernelspec": {
   "display_name": "Python 3 (ipykernel)",
   "language": "python",
   "name": "python3"
  },
  "language_info": {
   "codemirror_mode": {
    "name": "ipython",
    "version": 3
   },
   "file_extension": ".py",
   "mimetype": "text/x-python",
   "name": "python",
   "nbconvert_exporter": "python",
   "pygments_lexer": "ipython3",
   "version": "3.12.1"
  }
 },
 "nbformat": 4,
 "nbformat_minor": 5
}
